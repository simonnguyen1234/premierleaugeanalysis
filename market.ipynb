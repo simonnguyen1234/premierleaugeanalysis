{
  "nbformat": 4,
  "nbformat_minor": 0,
  "metadata": {
    "colab": {
      "provenance": [],
      "authorship_tag": "ABX9TyMSdAZXyipNHZId1tuEMeG0",
      "include_colab_link": true
    },
    "kernelspec": {
      "name": "python3",
      "display_name": "Python 3"
    },
    "language_info": {
      "name": "python"
    }
  },
  "cells": [
    {
      "cell_type": "markdown",
      "metadata": {
        "id": "view-in-github",
        "colab_type": "text"
      },
      "source": [
        "<a href=\"https://colab.research.google.com/github/simonnguyen1234/premierleaugeanalysis/blob/main/market.ipynb\" target=\"_parent\"><img src=\"https://colab.research.google.com/assets/colab-badge.svg\" alt=\"Open In Colab\"/></a>"
      ]
    },
    {
      "cell_type": "code",
      "execution_count": 1,
      "metadata": {
        "colab": {
          "base_uri": "https://localhost:8080/"
        },
        "id": "nWE-QAycoGWF",
        "outputId": "be08b444-dd3d-475e-e534-6914f62aca35"
      },
      "outputs": [
        {
          "output_type": "stream",
          "name": "stdout",
          "text": [
            "Mounted at /content/drive\n"
          ]
        }
      ],
      "source": [
        "from google.colab import drive\n",
        "drive.mount('/content/drive')\n",
        "import pandas as pd\n"
      ]
    },
    {
      "cell_type": "code",
      "source": [
        "import glob\n",
        "glob.glob('/content/drive/My Drive/data-epl/premier-league*.csv')"
      ],
      "metadata": {
        "colab": {
          "base_uri": "https://localhost:8080/"
        },
        "id": "THMvXYfLxwbU",
        "outputId": "2ece60ca-76e2-433e-f227-428cf5c3d8d5"
      },
      "execution_count": 2,
      "outputs": [
        {
          "output_type": "execute_result",
          "data": {
            "text/plain": [
              "['/content/drive/My Drive/data-epl/premier-league2000.csv',\n",
              " '/content/drive/My Drive/data-epl/premier-league2001.csv',\n",
              " '/content/drive/My Drive/data-epl/premier-league2002.csv',\n",
              " '/content/drive/My Drive/data-epl/premier-league2003.csv',\n",
              " '/content/drive/My Drive/data-epl/premier-league2004.csv',\n",
              " '/content/drive/My Drive/data-epl/premier-league2005.csv',\n",
              " '/content/drive/My Drive/data-epl/premier-league2006.csv',\n",
              " '/content/drive/My Drive/data-epl/premier-league2007.csv',\n",
              " '/content/drive/My Drive/data-epl/premier-league2008.csv',\n",
              " '/content/drive/My Drive/data-epl/premier-league2009.csv',\n",
              " '/content/drive/My Drive/data-epl/premier-league2010.csv',\n",
              " '/content/drive/My Drive/data-epl/premier-league2011.csv',\n",
              " '/content/drive/My Drive/data-epl/premier-league2012.csv',\n",
              " '/content/drive/My Drive/data-epl/premier-league2013.csv',\n",
              " '/content/drive/My Drive/data-epl/premier-league2014.csv',\n",
              " '/content/drive/My Drive/data-epl/premier-league2015.csv',\n",
              " '/content/drive/My Drive/data-epl/premier-league2016.csv',\n",
              " '/content/drive/My Drive/data-epl/premier-league2017.csv',\n",
              " '/content/drive/My Drive/data-epl/premier-league2018.csv',\n",
              " '/content/drive/My Drive/data-epl/premier-league2019.csv',\n",
              " '/content/drive/My Drive/data-epl/premier-league2020.csv',\n",
              " '/content/drive/My Drive/data-epl/premier-league2021.csv']"
            ]
          },
          "metadata": {},
          "execution_count": 2
        }
      ]
    },
    {
      "cell_type": "code",
      "source": [
        "all_dfs = []\n",
        "for one_filename in glob.glob('/content/drive/My Drive/data-epl/premier-league*.csv'):\n",
        "  print(f'Loading {one_filename}')\n",
        "  new_df = pd.read_csv(one_filename, usecols=['club','nationality','position', 'short_pos','market_value','fee','movement','window','season'])\n",
        "  all_dfs.append(new_df)"
      ],
      "metadata": {
        "colab": {
          "base_uri": "https://localhost:8080/"
        },
        "id": "AvSYmXunyQsv",
        "outputId": "dbe1b663-d8ff-4a2f-8228-c2858ecda3b0"
      },
      "execution_count": 3,
      "outputs": [
        {
          "output_type": "stream",
          "name": "stdout",
          "text": [
            "Loading /content/drive/My Drive/data-epl/premier-league2000.csv\n",
            "Loading /content/drive/My Drive/data-epl/premier-league2001.csv\n",
            "Loading /content/drive/My Drive/data-epl/premier-league2002.csv\n",
            "Loading /content/drive/My Drive/data-epl/premier-league2003.csv\n",
            "Loading /content/drive/My Drive/data-epl/premier-league2004.csv\n",
            "Loading /content/drive/My Drive/data-epl/premier-league2005.csv\n",
            "Loading /content/drive/My Drive/data-epl/premier-league2006.csv\n",
            "Loading /content/drive/My Drive/data-epl/premier-league2007.csv\n",
            "Loading /content/drive/My Drive/data-epl/premier-league2008.csv\n",
            "Loading /content/drive/My Drive/data-epl/premier-league2009.csv\n",
            "Loading /content/drive/My Drive/data-epl/premier-league2010.csv\n",
            "Loading /content/drive/My Drive/data-epl/premier-league2011.csv\n",
            "Loading /content/drive/My Drive/data-epl/premier-league2012.csv\n",
            "Loading /content/drive/My Drive/data-epl/premier-league2013.csv\n",
            "Loading /content/drive/My Drive/data-epl/premier-league2014.csv\n",
            "Loading /content/drive/My Drive/data-epl/premier-league2015.csv\n",
            "Loading /content/drive/My Drive/data-epl/premier-league2016.csv\n",
            "Loading /content/drive/My Drive/data-epl/premier-league2017.csv\n",
            "Loading /content/drive/My Drive/data-epl/premier-league2018.csv\n",
            "Loading /content/drive/My Drive/data-epl/premier-league2019.csv\n",
            "Loading /content/drive/My Drive/data-epl/premier-league2020.csv\n",
            "Loading /content/drive/My Drive/data-epl/premier-league2021.csv\n"
          ]
        }
      ]
    },
    {
      "cell_type": "code",
      "source": [
        "#concatenate\n",
        "df = pd.concat(all_dfs)"
      ],
      "metadata": {
        "id": "RyKCLuy30Lt7"
      },
      "execution_count": 4,
      "outputs": []
    },
    {
      "cell_type": "code",
      "source": [
        "df.shape"
      ],
      "metadata": {
        "colab": {
          "base_uri": "https://localhost:8080/"
        },
        "id": "GBu_Eh2J0Yrx",
        "outputId": "95d1d3fb-5edf-480b-faae-95875ed29bc2"
      },
      "execution_count": 12,
      "outputs": [
        {
          "output_type": "execute_result",
          "data": {
            "text/plain": [
              "(13328, 9)"
            ]
          },
          "metadata": {},
          "execution_count": 12
        }
      ]
    },
    {
      "cell_type": "code",
      "source": [
        "print(df.dtypes)"
      ],
      "metadata": {
        "colab": {
          "base_uri": "https://localhost:8080/"
        },
        "id": "alamQC4a226H",
        "outputId": "8de2c3ae-df67-4b4d-dc56-5502354a9e0f"
      },
      "execution_count": 16,
      "outputs": [
        {
          "output_type": "stream",
          "name": "stdout",
          "text": [
            "club             object\n",
            "nationality      object\n",
            "position         object\n",
            "short_pos        object\n",
            "market_value    float64\n",
            "fee             float64\n",
            "movement         object\n",
            "window           object\n",
            "season            int64\n",
            "dtype: object\n"
          ]
        }
      ]
    },
    {
      "cell_type": "code",
      "source": [
        "#Choose data for period 2000-2010\n",
        "df_1 = df[(df['season'] >= 2000) & (df['season'] <= 2010)]\n",
        "print(df_1)"
      ],
      "metadata": {
        "colab": {
          "base_uri": "https://localhost:8080/"
        },
        "id": "O60imfDh37ob",
        "outputId": "f53e5f1e-5bc7-43a5-e485-4b84e5c998ca"
      },
      "execution_count": 5,
      "outputs": [
        {
          "output_type": "stream",
          "name": "stdout",
          "text": [
            "                        club nationality        position short_pos  \\\n",
            "0                 Arsenal FC      France  Second Striker        SS   \n",
            "1                 Arsenal FC     England  Centre-Forward        CF   \n",
            "2                 Arsenal FC    Cameroon      Right-Back        RB   \n",
            "3                 Arsenal FC      France   Left Midfield        LM   \n",
            "4                 Arsenal FC      Latvia     Centre-Back        CB   \n",
            "..                       ...         ...             ...       ...   \n",
            "635  Wolverhampton Wanderers       Wales  Centre-Forward        CF   \n",
            "636  Wolverhampton Wanderers     England     Centre-Back        CB   \n",
            "637  Wolverhampton Wanderers     England       Left-Back        LB   \n",
            "638  Wolverhampton Wanderers     England       Left-Back        LB   \n",
            "639  Wolverhampton Wanderers     England     Centre-Back        CB   \n",
            "\n",
            "     market_value         fee movement  window  season  \n",
            "0             NaN  17500000.0       in  summer    2000  \n",
            "1             NaN  15300000.0       in  summer    2000  \n",
            "2             NaN  10700000.0       in  summer    2000  \n",
            "3             NaN   9800000.0       in  summer    2000  \n",
            "4             NaN   1500000.0       in  summer    2000  \n",
            "..            ...         ...      ...     ...     ...  \n",
            "635      750000.0         0.0      out  winter    2010  \n",
            "636     2000000.0         0.0      out  winter    2010  \n",
            "637      100000.0         0.0      out  winter    2010  \n",
            "638      500000.0         0.0      out  winter    2010  \n",
            "639      100000.0         0.0      out  winter    2010  \n",
            "\n",
            "[6773 rows x 9 columns]\n"
          ]
        }
      ]
    },
    {
      "cell_type": "code",
      "source": [
        "#Choose data for period 2011-2021\n",
        "df_2 = df[(df['season'] >= 2011) & (df['season'] <= 2021)]\n",
        "print(df_2)"
      ],
      "metadata": {
        "colab": {
          "base_uri": "https://localhost:8080/"
        },
        "id": "m98iOecI9rlz",
        "outputId": "1ec7f6be-5e9c-4ad0-c0e3-de8224ee99c8"
      },
      "execution_count": 21,
      "outputs": [
        {
          "output_type": "stream",
          "name": "stdout",
          "text": [
            "                          club    nationality            position short_pos  \\\n",
            "0                   Arsenal FC        England    Central Midfield        CM   \n",
            "1                   Arsenal FC  Cote d'Ivoire         Left Winger        LW   \n",
            "2                   Arsenal FC          Spain    Central Midfield        CM   \n",
            "3                   Arsenal FC        Germany         Centre-Back        CB   \n",
            "4                   Arsenal FC         Brazil  Attacking Midfield        AM   \n",
            "..                         ...            ...                 ...       ...   \n",
            "334  West Ham United Wanderers       Paraguay         Centre-Back        CB   \n",
            "335  West Ham United Wanderers       Portugal        Right Winger        RW   \n",
            "336  West Ham United Wanderers        Denmark         Centre-Back        CB   \n",
            "337  West Ham United Wanderers    New Zealand         Centre-Back        CB   \n",
            "338  West Ham United Wanderers        Ireland  Defensive Midfield        DM   \n",
            "\n",
            "     market_value         fee movement  window  season  \n",
            "0       2500000.0  13800000.0       in  summer    2011  \n",
            "1      15000000.0  12000000.0       in  summer    2011  \n",
            "2      15000000.0  12000000.0       in  summer    2011  \n",
            "3      12500000.0  11300000.0       in  summer    2011  \n",
            "4       8500000.0   7000000.0       in  summer    2011  \n",
            "..            ...         ...      ...     ...     ...  \n",
            "334     5000000.0         0.0      out  summer    2021  \n",
            "335      800000.0         NaN      out  summer    2021  \n",
            "336     1000000.0         0.0      out  summer    2021  \n",
            "337     1000000.0         NaN      out  summer    2021  \n",
            "338      200000.0         0.0      out  summer    2021  \n",
            "\n",
            "[6555 rows x 9 columns]\n"
          ]
        }
      ]
    },
    {
      "cell_type": "markdown",
      "source": [
        "**Which club spent the most during 2000-1010**"
      ],
      "metadata": {
        "id": "mtwrx-015iKd"
      }
    },
    {
      "cell_type": "code",
      "source": [
        "def sum_condition(group):\n",
        "    return group[group['movement'] == 'in']['fee'].sum()\n",
        "\n",
        "# group the DataFrame by column 'A' and apply the custom function\n",
        "club_spent = df_1.groupby('club').apply(sum_condition)\n",
        "\n",
        "\n",
        "club_spent = club_spent.sort_values(ascending=False)\n",
        "print(club_spent)"
      ],
      "metadata": {
        "colab": {
          "base_uri": "https://localhost:8080/"
        },
        "id": "oP3UrjRd5nG6",
        "outputId": "83141a8c-0641-4a60-8368-7077af457593"
      },
      "execution_count": 6,
      "outputs": [
        {
          "output_type": "stream",
          "name": "stdout",
          "text": [
            "club\n",
            "Chelsea FC                 861570000.0\n",
            "Manchester City            671670000.0\n",
            "Liverpool FC               564550000.0\n",
            "Tottenham Hotspur          542175000.0\n",
            "Manchester United          528210000.0\n",
            "Arsenal FC                 312020000.0\n",
            "Newcastle United           302435000.0\n",
            "Aston Villa                283440000.0\n",
            "Sunderland AFC             267865000.0\n",
            "West Ham United            233125000.0\n",
            "Everton FC                 222389000.0\n",
            "Middlesbrough FC           208060000.0\n",
            "Fulham FC                  191815000.0\n",
            "Portsmouth FC              142105000.0\n",
            "Blackburn Rovers           137070000.0\n",
            "Birmingham City            131605000.0\n",
            "Wigan Athletic             120715000.0\n",
            "Leeds United               115555000.0\n",
            "Bolton Wanderers            91905000.0\n",
            "Charlton Athletic           86550000.0\n",
            "West Bromwich Albion        86250000.0\n",
            "Stoke City                  81100000.0\n",
            "Southampton FC              53005000.0\n",
            "Wolverhampton Wanderers     49540000.0\n",
            "Derby County                40590000.0\n",
            "Hull City                   32795000.0\n",
            "Leicester City              32035000.0\n",
            "Ipswich Town                29825000.0\n",
            "Reading FC                  21325000.0\n",
            "Coventry City               19000000.0\n",
            "Sheffield United            18030000.0\n",
            "Burnley FC                  13540000.0\n",
            "Watford FC                  10475000.0\n",
            "Norwich City                 8525000.0\n",
            "Bradford City                6605000.0\n",
            "Blackpool FC                 5725000.0\n",
            "Crystal Palace               5150000.0\n",
            "dtype: float64\n"
          ]
        }
      ]
    },
    {
      "cell_type": "code",
      "source": [
        "#chart\n",
        "import matplotlib.pyplot as plt\n",
        "import numpy as np\n",
        "\n",
        "x = np.array(['Chelsea', 'Man City', 'Liverpool   ','Tottenham ', 'Arsenal ','Man United'])\n",
        "y = np.array([861570000, 671670000, 564550000, 542175000,312020000,528210000 ])\n",
        "\n",
        "width = 0.5\n",
        "spacing = 0.5\n",
        "\n",
        "plt.bar(x, y, width=width)\n",
        "plt.title('Big 6 Premier League club spent 2000-2010')\n",
        "plt.xlabel('Clubs')\n",
        "plt.ylabel('Transfer fee in euro (hundred millions)')\n",
        "\n",
        "plt.show()\n"
      ],
      "metadata": {
        "colab": {
          "base_uri": "https://localhost:8080/",
          "height": 295
        },
        "id": "HNbEpodsXK7A",
        "outputId": "d8ea4b96-7229-4167-de08-509d1ab4da3a"
      },
      "execution_count": 32,
      "outputs": [
        {
          "output_type": "display_data",
          "data": {
            "text/plain": [
              "<Figure size 432x288 with 1 Axes>"
            ],
            "image/png": "[encoded data removed]"
          },
          "metadata": {
            "needs_background": "light"
          }
        }
      ]
    },
    {
      "cell_type": "code",
      "source": [
        "#club spent as a fraction of toal market 2000-2010\n",
        "\n",
        "spend_sum = club_spent.sum()\n",
        "club_spent_percentage = club_spent / spend_sum\n",
        "club_spent_percentage = club_spent_percentage.apply(lambda x: '{:.2%}'.format(x))\n",
        "print(club_spent_percentage)"
      ],
      "metadata": {
        "colab": {
          "base_uri": "https://localhost:8080/"
        },
        "id": "1YjxJ9dUSV9k",
        "outputId": "30bdee28-4ce9-4127-eedd-d43c550e4101"
      },
      "execution_count": 18,
      "outputs": [
        {
          "output_type": "stream",
          "name": "stdout",
          "text": [
            "club\n",
            "Chelsea FC                 13.20%\n",
            "Manchester City            10.29%\n",
            "Liverpool FC                8.65%\n",
            "Tottenham Hotspur           8.30%\n",
            "Manchester United           8.09%\n",
            "Arsenal FC                  4.78%\n",
            "Newcastle United            4.63%\n",
            "Aston Villa                 4.34%\n",
            "Sunderland AFC              4.10%\n",
            "West Ham United             3.57%\n",
            "Everton FC                  3.41%\n",
            "Middlesbrough FC            3.19%\n",
            "Fulham FC                   2.94%\n",
            "Portsmouth FC               2.18%\n",
            "Blackburn Rovers            2.10%\n",
            "Birmingham City             2.02%\n",
            "Wigan Athletic              1.85%\n",
            "Leeds United                1.77%\n",
            "Bolton Wanderers            1.41%\n",
            "Charlton Athletic           1.33%\n",
            "West Bromwich Albion        1.32%\n",
            "Stoke City                  1.24%\n",
            "Southampton FC              0.81%\n",
            "Wolverhampton Wanderers     0.76%\n",
            "Derby County                0.62%\n",
            "Hull City                   0.50%\n",
            "Leicester City              0.49%\n",
            "Ipswich Town                0.46%\n",
            "Reading FC                  0.33%\n",
            "Coventry City               0.29%\n",
            "Sheffield United            0.28%\n",
            "Burnley FC                  0.21%\n",
            "Watford FC                  0.16%\n",
            "Norwich City                0.13%\n",
            "Bradford City               0.10%\n",
            "Blackpool FC                0.09%\n",
            "Crystal Palace              0.08%\n",
            "dtype: object\n"
          ]
        }
      ]
    },
    {
      "cell_type": "code",
      "source": [
        "fig, ax1 = plt.subplots()\n",
        "x = np.array(['Chelsea', 'Man City', 'Liverpool   ','Tottenham ', 'Arsenal ','Man United'])\n",
        "y1 = np.array([861570000, 671670000, 564550000, 542175000,312020000,528210000 ])\n",
        "y2 = np.array([13.20,10.29,8.65,8.30,4.78,8.09])\n",
        "ax1.bar(x, y1, color='C0')\n",
        "ax1.set_ylabel('Transfer fee in euro (hundred millions)', color='C0')\n",
        "ax1.tick_params(axis='y', labelcolor='C0')\n",
        "\n",
        "ax2 = ax1.twinx()\n",
        "\n",
        "ax2.plot(x, y2, color='C1', marker='o')\n",
        "ax2.set_ylabel('Percentage of total Premier League transfer', color='C1')\n",
        "ax2.tick_params(axis='y', labelcolor='C1')\n",
        "\n",
        "ax1.set_title('Big 6 Premier League clubs spent and percentage of total spent 2000-2010')\n",
        "ax1.set_xlabel('Clubs')\n",
        "\n",
        "plt.show()"
      ],
      "metadata": {
        "colab": {
          "base_uri": "https://localhost:8080/",
          "height": 306
        },
        "id": "N3UYGol3csiY",
        "outputId": "a71f88a1-a0ea-4f4d-cf3a-6948fb42087f"
      },
      "execution_count": 43,
      "outputs": [
        {
          "output_type": "display_data",
          "data": {
            "text/plain": [
              "<Figure size 432x288 with 2 Axes>"
            ],
            "image/png": "[encoded data removed]"
          },
          "metadata": {}
        }
      ]
    },
    {
      "cell_type": "code",
      "source": [
        "def sum_condition(group):\n",
        "    return group[group['movement'] == 'out']['fee'].sum()\n",
        "\n",
        "# group the DataFrame by column 'A' and apply the custom function\n",
        "club_sold = df_1.groupby('club').apply(sum_condition)\n",
        "\n",
        "\n",
        "club_sold = club_sold.sort_values(ascending=False)\n",
        "print(club_sold)"
      ],
      "metadata": {
        "colab": {
          "base_uri": "https://localhost:8080/"
        },
        "id": "qUJBqcob_8vK",
        "outputId": "1b6e697f-f449-40b5-c3d9-efba1090a2d3"
      },
      "execution_count": 8,
      "outputs": [
        {
          "output_type": "stream",
          "name": "stdout",
          "text": [
            "club\n",
            "Liverpool FC               373888000.0\n",
            "Manchester United          327275000.0\n",
            "Arsenal FC                 262195000.0\n",
            "Chelsea FC                 255069000.0\n",
            "Tottenham Hotspur          232340000.0\n",
            "West Ham United            224985000.0\n",
            "Newcastle United           213213000.0\n",
            "Everton FC                 171265000.0\n",
            "Manchester City            161640000.0\n",
            "Portsmouth FC              147525000.0\n",
            "Blackburn Rovers           145935000.0\n",
            "Aston Villa                144650000.0\n",
            "Leeds United               113940000.0\n",
            "Wigan Athletic             101665000.0\n",
            "Sunderland AFC              97665000.0\n",
            "Fulham FC                   95910000.0\n",
            "Middlesbrough FC            63891000.0\n",
            "Bolton Wanderers            45937000.0\n",
            "Derby County                41120000.0\n",
            "Southampton FC              36970000.0\n",
            "Charlton Athletic           29867000.0\n",
            "Birmingham City             29750000.0\n",
            "Coventry City               26275000.0\n",
            "West Bromwich Albion        22130000.0\n",
            "Ipswich Town                18000000.0\n",
            "Hull City                   16200000.0\n",
            "Stoke City                  14140000.0\n",
            "Watford FC                  13500000.0\n",
            "Leicester City              12740000.0\n",
            "Bradford City                8945000.0\n",
            "Wolverhampton Wanderers      8610000.0\n",
            "Reading FC                   5700000.0\n",
            "Sheffield United             3330000.0\n",
            "Blackpool FC                  700000.0\n",
            "Norwich City                  450000.0\n",
            "Crystal Palace                100000.0\n",
            "Burnley FC                     90000.0\n",
            "dtype: float64\n"
          ]
        }
      ]
    },
    {
      "cell_type": "code",
      "source": [
        "#net pay for each club 2000-2010\n",
        "club_net = club_sold - club_spent\n",
        "club_net = club_net.sort_values(ascending=True)\n",
        "print(club_net)"
      ],
      "metadata": {
        "colab": {
          "base_uri": "https://localhost:8080/"
        },
        "id": "BZxhOnOfRAtP",
        "outputId": "13e897bd-69b9-4f7d-acdc-4c520c2f86d9"
      },
      "execution_count": 19,
      "outputs": [
        {
          "output_type": "stream",
          "name": "stdout",
          "text": [
            "club\n",
            "Chelsea FC                -606501000.0\n",
            "Manchester City           -510030000.0\n",
            "Tottenham Hotspur         -309835000.0\n",
            "Manchester United         -200935000.0\n",
            "Liverpool FC              -190662000.0\n",
            "Sunderland AFC            -170200000.0\n",
            "Middlesbrough FC          -144169000.0\n",
            "Aston Villa               -138790000.0\n",
            "Birmingham City           -101855000.0\n",
            "Fulham FC                  -95905000.0\n",
            "Newcastle United           -89222000.0\n",
            "Stoke City                 -66960000.0\n",
            "West Bromwich Albion       -64120000.0\n",
            "Charlton Athletic          -56683000.0\n",
            "Everton FC                 -51124000.0\n",
            "Arsenal FC                 -49825000.0\n",
            "Bolton Wanderers           -45968000.0\n",
            "Wolverhampton Wanderers    -40930000.0\n",
            "Leicester City             -19295000.0\n",
            "Wigan Athletic             -19050000.0\n",
            "Hull City                  -16595000.0\n",
            "Southampton FC             -16035000.0\n",
            "Reading FC                 -15625000.0\n",
            "Sheffield United           -14700000.0\n",
            "Burnley FC                 -13450000.0\n",
            "Ipswich Town               -11825000.0\n",
            "West Ham United             -8140000.0\n",
            "Norwich City                -8075000.0\n",
            "Crystal Palace              -5050000.0\n",
            "Blackpool FC                -5025000.0\n",
            "Leeds United                -1615000.0\n",
            "Derby County                  530000.0\n",
            "Bradford City                2340000.0\n",
            "Watford FC                   3025000.0\n",
            "Portsmouth FC                5420000.0\n",
            "Coventry City                7275000.0\n",
            "Blackburn Rovers             8865000.0\n",
            "dtype: float64\n"
          ]
        }
      ]
    },
    {
      "cell_type": "code",
      "source": [
        "x = np.array(['Chelsea', 'Man City', 'Liverpool   ','Tottenham ', 'Arsenal ','Man United'])\n",
        "y = np.array([606501000, 510030000, 190662000, 309835000,49825000,200935000 ])\n",
        "\n",
        "\n",
        "width = 0.5\n",
        "spacing = 0.5\n",
        "\n",
        "plt.bar(x, y, width=width)\n",
        "plt.title('Big 6 Premier League club net spent 2000-2010')\n",
        "plt.xlabel('Clubs')\n",
        "plt.ylabel('Negative net spent in euro (hundred millions)')\n",
        "\n",
        "plt.show()"
      ],
      "metadata": {
        "colab": {
          "base_uri": "https://localhost:8080/",
          "height": 295
        },
        "id": "uN40oYHFhzdy",
        "outputId": "a0408cf7-feaa-43a3-ba1e-7b4569c45488"
      },
      "execution_count": 39,
      "outputs": [
        {
          "output_type": "display_data",
          "data": {
            "text/plain": [
              "<Figure size 432x288 with 1 Axes>"
            ],
            "image/png": "[encoded data removed]"
          },
          "metadata": {
            "needs_background": "light"
          }
        }
      ]
    },
    {
      "cell_type": "markdown",
      "source": [
        "**Which club spent the most during 2011-2021**"
      ],
      "metadata": {
        "id": "bFH7Ck059z40"
      }
    },
    {
      "cell_type": "code",
      "source": [
        "def sum_condition(group):\n",
        "    return group[group['movement'] == 'in']['fee'].sum()\n",
        "\n",
        "# group the DataFrame by column 'A' and apply the custom function\n",
        "club_spent2 = df_2.groupby('club').apply(sum_condition)\n",
        "\n",
        "\n",
        "club_spent2 = club_spent2.sort_values(ascending=False)\n",
        "print(club_spent2)"
      ],
      "metadata": {
        "colab": {
          "base_uri": "https://localhost:8080/"
        },
        "id": "RAxh7geY96IR",
        "outputId": "d6246417-4071-4b49-bc8b-4dbc3e6de6d5"
      },
      "execution_count": 22,
      "outputs": [
        {
          "output_type": "stream",
          "name": "stdout",
          "text": [
            "club\n",
            "Manchester City              1.655405e+09\n",
            "Chelsea FC                   1.585000e+09\n",
            "Manchester United            1.483610e+09\n",
            "Arsenal FC                   1.073250e+09\n",
            "Liverpool FC                 1.040983e+09\n",
            "Tottenham Hotspur            8.571600e+08\n",
            "Everton FC                   7.365800e+08\n",
            "Leicester City               6.017050e+08\n",
            "Southampton FC               5.716000e+08\n",
            "West Ham United              5.508550e+08\n",
            "Aston Villa                  5.054750e+08\n",
            "Newcastle United             4.624450e+08\n",
            "Crystal Palace               3.585600e+08\n",
            "Wolverhampton Wanderers      3.254000e+08\n",
            "Watford FC                   3.235500e+08\n",
            "Brighton & Hove Albion       3.143610e+08\n",
            "AFC Bournemouth              2.741100e+08\n",
            "Swansea City                 2.547570e+08\n",
            "West Bromwich Albion         2.311580e+08\n",
            "Sunderland AFC               2.309300e+08\n",
            "Fulham FC                    2.111800e+08\n",
            "Stoke City                   2.074050e+08\n",
            "Burnley FC                   1.838100e+08\n",
            "Norwich City                 1.818450e+08\n",
            "Leeds United                 1.656800e+08\n",
            "Sheffield United             1.342000e+08\n",
            "Queens Park Rangers          1.201230e+08\n",
            "Hull City                    1.193170e+08\n",
            "Huddersfield Town            1.074500e+08\n",
            "Cardiff City                 9.701500e+07\n",
            "West Ham United Wanderers    7.450000e+07\n",
            "Middlesbrough FC             4.795000e+07\n",
            "Brentford FC                 3.820000e+07\n",
            "Wigan Athletic               2.291500e+07\n",
            "Blackburn Rovers             2.055000e+07\n",
            "Bolton Wanderers             1.560000e+07\n",
            "Reading FC                   1.082000e+07\n",
            "dtype: float64\n"
          ]
        }
      ]
    },
    {
      "cell_type": "code",
      "source": [
        "#club spent as a fraction of toal market 2011-2021\n",
        "\n",
        "spend_sum2 = club_spent2.sum()\n",
        "club_spent_percentage2 = club_spent2 / spend_sum2\n",
        "club_spent_percentage2 = club_spent_percentage2.apply(lambda x: '{:.2%}'.format(x))\n",
        "print(club_spent_percentage2)"
      ],
      "metadata": {
        "colab": {
          "base_uri": "https://localhost:8080/"
        },
        "id": "UihpBzACjMfY",
        "outputId": "8b831940-b77e-4bbf-8a87-eea326f03013"
      },
      "execution_count": 40,
      "outputs": [
        {
          "output_type": "stream",
          "name": "stdout",
          "text": [
            "club\n",
            "Manchester City              10.89%\n",
            "Chelsea FC                   10.43%\n",
            "Manchester United             9.76%\n",
            "Arsenal FC                    7.06%\n",
            "Liverpool FC                  6.85%\n",
            "Tottenham Hotspur             5.64%\n",
            "Everton FC                    4.85%\n",
            "Leicester City                3.96%\n",
            "Southampton FC                3.76%\n",
            "West Ham United               3.63%\n",
            "Aston Villa                   3.33%\n",
            "Newcastle United              3.04%\n",
            "Crystal Palace                2.36%\n",
            "Wolverhampton Wanderers       2.14%\n",
            "Watford FC                    2.13%\n",
            "Brighton & Hove Albion        2.07%\n",
            "AFC Bournemouth               1.80%\n",
            "Swansea City                  1.68%\n",
            "West Bromwich Albion          1.52%\n",
            "Sunderland AFC                1.52%\n",
            "Fulham FC                     1.39%\n",
            "Stoke City                    1.36%\n",
            "Burnley FC                    1.21%\n",
            "Norwich City                  1.20%\n",
            "Leeds United                  1.09%\n",
            "Sheffield United              0.88%\n",
            "Queens Park Rangers           0.79%\n",
            "Hull City                     0.79%\n",
            "Huddersfield Town             0.71%\n",
            "Cardiff City                  0.64%\n",
            "West Ham United Wanderers     0.49%\n",
            "Middlesbrough FC              0.32%\n",
            "Brentford FC                  0.25%\n",
            "Wigan Athletic                0.15%\n",
            "Blackburn Rovers              0.14%\n",
            "Bolton Wanderers              0.10%\n",
            "Reading FC                    0.07%\n",
            "dtype: object\n"
          ]
        }
      ]
    },
    {
      "cell_type": "code",
      "source": [
        "fig, ax1 = plt.subplots()\n",
        "x = np.array(['Chelsea', 'Man City', 'Liverpool   ','Tottenham ', 'Arsenal ','Man United'])\n",
        "y1 = np.array([ 1.585000e+09, 1.655405e+09, 1.040983e+09, 8.571600e+08,1.073250e+09,1.483610e+09 ])\n",
        "y2 = np.array([10.43,10.89,6.85,5.64,7.06,9.76])\n",
        "ax1.bar(x, y1, color='C0')\n",
        "ax1.set_ylabel('Transfer fee in euro (hundred millions)', color='C0')\n",
        "ax1.tick_params(axis='y', labelcolor='C0')\n",
        "\n",
        "ax2 = ax1.twinx()\n",
        "\n",
        "ax2.plot(x, y2, color='C1', marker='o')\n",
        "ax2.set_ylabel('Percentage of total Premier League transfer', color='C1')\n",
        "ax2.tick_params(axis='y', labelcolor='C1')\n",
        "\n",
        "ax1.set_title('Big 6 Premier League clubs spent and percentage of total spent 2011-2021')\n",
        "ax1.set_xlabel('Clubs')\n",
        "\n",
        "plt.show()"
      ],
      "metadata": {
        "colab": {
          "base_uri": "https://localhost:8080/",
          "height": 306
        },
        "id": "jV6OuGUojrhm",
        "outputId": "1cac004e-6a77-434d-b294-a0b11b59459a"
      },
      "execution_count": 44,
      "outputs": [
        {
          "output_type": "display_data",
          "data": {
            "text/plain": [
              "<Figure size 432x288 with 2 Axes>"
            ],
            "image/png": "[encoded data removed]"
          },
          "metadata": {}
        }
      ]
    },
    {
      "cell_type": "code",
      "source": [
        "def sum_condition(group):\n",
        "    return group[group['movement'] == 'out']['fee'].sum()\n",
        "\n",
        "# group the DataFrame by column 'A' and apply the custom function\n",
        "club_sold2 = df_2.groupby('club').apply(sum_condition)\n",
        "\n",
        "\n",
        "club_sold2 = club_sold2.sort_values(ascending=False)\n",
        "print(club_sold2)"
      ],
      "metadata": {
        "colab": {
          "base_uri": "https://localhost:8080/"
        },
        "id": "RpXeNyXyU8Ag",
        "outputId": "cbc2b0c1-0546-4eb7-d653-5d8e4f97600c"
      },
      "execution_count": 23,
      "outputs": [
        {
          "output_type": "stream",
          "name": "stdout",
          "text": [
            "club\n",
            "Chelsea FC                   1.090506e+09\n",
            "Liverpool FC                 6.791700e+08\n",
            "Tottenham Hotspur            6.581050e+08\n",
            "Manchester City              5.405110e+08\n",
            "Southampton FC               5.042000e+08\n",
            "Arsenal FC                   4.660400e+08\n",
            "Manchester United            4.295550e+08\n",
            "Everton FC                   4.213100e+08\n",
            "Leicester City               3.676700e+08\n",
            "Aston Villa                  2.538350e+08\n",
            "West Ham United              2.537750e+08\n",
            "Swansea City                 2.421600e+08\n",
            "Newcastle United             1.944000e+08\n",
            "Watford FC                   1.766800e+08\n",
            "Crystal Palace               1.371950e+08\n",
            "Wolverhampton Wanderers      1.292050e+08\n",
            "Brighton & Hove Albion       1.066200e+08\n",
            "Sunderland AFC               1.055550e+08\n",
            "Burnley FC                   8.205000e+07\n",
            "AFC Bournemouth              7.916500e+07\n",
            "West Bromwich Albion         7.809500e+07\n",
            "Stoke City                   6.856500e+07\n",
            "Norwich City                 6.780500e+07\n",
            "Fulham FC                    4.859000e+07\n",
            "Hull City                    4.848000e+07\n",
            "Blackburn Rovers             4.030300e+07\n",
            "Queens Park Rangers          3.335000e+07\n",
            "Wigan Athletic               2.453500e+07\n",
            "Huddersfield Town            1.878500e+07\n",
            "Bolton Wanderers             1.633000e+07\n",
            "Middlesbrough FC             1.350000e+07\n",
            "Cardiff City                 3.740000e+06\n",
            "West Ham United Wanderers    3.000000e+06\n",
            "Brentford FC                 1.000000e+06\n",
            "Reading FC                   9.000000e+05\n",
            "Sheffield United             3.500000e+05\n",
            "Leeds United                 0.000000e+00\n",
            "dtype: float64\n"
          ]
        }
      ]
    },
    {
      "cell_type": "code",
      "source": [
        "#net pay for each club 2011-2021\n",
        "club_net2 = club_sold2 - club_spent2\n",
        "club_net2 = club_net2.sort_values(ascending=True)\n",
        "print(club_net2)"
      ],
      "metadata": {
        "colab": {
          "base_uri": "https://localhost:8080/"
        },
        "id": "M5MZRWiDVIUT",
        "outputId": "5f06b1e6-c6a1-4e0e-9d25-198e1546f98e"
      },
      "execution_count": 24,
      "outputs": [
        {
          "output_type": "stream",
          "name": "stdout",
          "text": [
            "club\n",
            "Manchester City             -1.114894e+09\n",
            "Manchester United           -1.054055e+09\n",
            "Arsenal FC                  -6.072100e+08\n",
            "Chelsea FC                  -4.944940e+08\n",
            "Liverpool FC                -3.618130e+08\n",
            "Everton FC                  -3.152700e+08\n",
            "West Ham United             -2.970800e+08\n",
            "Newcastle United            -2.680450e+08\n",
            "Aston Villa                 -2.516400e+08\n",
            "Leicester City              -2.340350e+08\n",
            "Crystal Palace              -2.213650e+08\n",
            "Brighton & Hove Albion      -2.077410e+08\n",
            "Tottenham Hotspur           -1.990550e+08\n",
            "Wolverhampton Wanderers     -1.961950e+08\n",
            "AFC Bournemouth             -1.949450e+08\n",
            "Leeds United                -1.656800e+08\n",
            "Fulham FC                   -1.625900e+08\n",
            "West Bromwich Albion        -1.530630e+08\n",
            "Watford FC                  -1.468700e+08\n",
            "Stoke City                  -1.388400e+08\n",
            "Sheffield United            -1.338500e+08\n",
            "Sunderland AFC              -1.253750e+08\n",
            "Norwich City                -1.140400e+08\n",
            "Burnley FC                  -1.017600e+08\n",
            "Cardiff City                -9.327500e+07\n",
            "Huddersfield Town           -8.866500e+07\n",
            "Queens Park Rangers         -8.677300e+07\n",
            "West Ham United Wanderers   -7.150000e+07\n",
            "Hull City                   -7.083700e+07\n",
            "Southampton FC              -6.740000e+07\n",
            "Brentford FC                -3.720000e+07\n",
            "Middlesbrough FC            -3.445000e+07\n",
            "Swansea City                -1.259700e+07\n",
            "Reading FC                  -9.920000e+06\n",
            "Bolton Wanderers             7.300000e+05\n",
            "Wigan Athletic               1.620000e+06\n",
            "Blackburn Rovers             1.975300e+07\n",
            "dtype: float64\n"
          ]
        }
      ]
    },
    {
      "cell_type": "code",
      "source": [
        "x = np.array(['Chelsea', 'Man City', 'Liverpool  ','Tottenham ', 'Arsenal ','Man United'])\n",
        "y = np.array([4.944940e+08, 1.114894e+09, 3.618130e+08, 1.990550e+08,6.072100e+08,1.054055e+09])\n",
        "\n",
        "\n",
        "width = 0.5\n",
        "spacing = 0.5\n",
        "\n",
        "plt.bar(x, y, width=width)\n",
        "plt.title('Big 6 Premier League club net spent 2011-2021')\n",
        "plt.xlabel('Clubs')\n",
        "plt.ylabel('Negative net spent in euro (hundred millions)')\n",
        "\n",
        "plt.show()"
      ],
      "metadata": {
        "colab": {
          "base_uri": "https://localhost:8080/",
          "height": 295
        },
        "id": "E1gLpFHUlCFQ",
        "outputId": "d707dc07-c4c9-403b-c089-759930ed4225"
      },
      "execution_count": 45,
      "outputs": [
        {
          "output_type": "display_data",
          "data": {
            "text/plain": [
              "<Figure size 432x288 with 1 Axes>"
            ],
            "image/png": "[encoded data removed]"
          },
          "metadata": {
            "needs_background": "light"
          }
        }
      ]
    }
  ]
}