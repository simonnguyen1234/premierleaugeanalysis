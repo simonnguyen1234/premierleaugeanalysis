{
  "nbformat": 4,
  "nbformat_minor": 0,
  "metadata": {
    "colab": {
      "provenance": [],
      "authorship_tag": "ABX9TyPHFrJFrBYq20dq/qrHVd+e",
      "include_colab_link": true
    },
    "kernelspec": {
      "name": "python3",
      "display_name": "Python 3"
    },
    "language_info": {
      "name": "python"
    }
  },
  "cells": [
    {
      "cell_type": "markdown",
      "metadata": {
        "id": "view-in-github",
        "colab_type": "text"
      },
      "source": [
        "<a href=\"https://colab.research.google.com/github/simonnguyen1234/premierleaugeanalysis/blob/main/Premier_League_analysis.ipynb\" target=\"_parent\"><img src=\"https://colab.research.google.com/assets/colab-badge.svg\" alt=\"Open In Colab\"/></a>"
      ]
    },
    {
      "cell_type": "code",
      "execution_count": 1,
      "metadata": {
        "colab": {
          "base_uri": "https://localhost:8080/"
        },
        "id": "kMnK2eaMmvnH",
        "outputId": "eba03c8a-7adf-4c9e-88a9-ba9ce664bf0a"
      },
      "outputs": [
        {
          "output_type": "stream",
          "name": "stdout",
          "text": [
            "Mounted at /content/drive\n"
          ]
        }
      ],
      "source": [
        "from google.colab import drive\n",
        "drive.mount('/content/drive')\n",
        "import pandas as pd\n",
        "df = pd.read_csv('/content/drive/My Drive/EPL Standings 2000-2022.csv')"
      ]
    },
    {
      "cell_type": "code",
      "source": [
        "df.head()\n"
      ],
      "metadata": {
        "colab": {
          "base_uri": "https://localhost:8080/",
          "height": 206
        },
        "id": "Fx_W8RLEnCnF",
        "outputId": "7f6b57ae-325a-4f20-a728-46beeb696e87"
      },
      "execution_count": 12,
      "outputs": [
        {
          "output_type": "execute_result",
          "data": {
            "text/plain": [
              "    Season  Pos               Team  Pld   W   D   L  GF  GA  GD  Pts  \\\n",
              "0  2000-01    1  Manchester United   38  24   8   6  79  31  48   80   \n",
              "1  2000-01    2            Arsenal   38  20  10   8  63  38  25   70   \n",
              "2  2000-01    3          Liverpool   38  20   9   9  71  39  32   69   \n",
              "3  2000-01    4       Leeds United   38  20   8  10  64  43  21   68   \n",
              "4  2000-01    5       Ipswich Town   38  20   6  12  57  42  15   66   \n",
              "\n",
              "                         Qualification or relegation  \n",
              "0  Qualification for the Champions League first g...  \n",
              "1  Qualification for the Champions League first g...  \n",
              "2  Qualification for the Champions League third q...  \n",
              "3      Qualification for the UEFA Cup first round[a]  \n",
              "4      Qualification for the UEFA Cup first round[a]  "
            ],
            "text/html": [
              "\n",
              "  <div id=\"df-528ac73d-9ef7-4fcd-a13b-5a8be8edd2da\">\n",
              "    <div class=\"colab-df-container\">\n",
              "      <div>\n",
              "<style scoped>\n",
              "    .dataframe tbody tr th:only-of-type {\n",
              "        vertical-align: middle;\n",
              "    }\n",
              "\n",
              "    .dataframe tbody tr th {\n",
              "        vertical-align: top;\n",
              "    }\n",
              "\n",
              "    .dataframe thead th {\n",
              "        text-align: right;\n",
              "    }\n",
              "</style>\n",
              "<table border=\"1\" class=\"dataframe\">\n",
              "  <thead>\n",
              "    <tr style=\"text-align: right;\">\n",
              "      <th></th>\n",
              "      <th>Season</th>\n",
              "      <th>Pos</th>\n",
              "      <th>Team</th>\n",
              "      <th>Pld</th>\n",
              "      <th>W</th>\n",
              "      <th>D</th>\n",
              "      <th>L</th>\n",
              "      <th>GF</th>\n",
              "      <th>GA</th>\n",
              "      <th>GD</th>\n",
              "      <th>Pts</th>\n",
              "      <th>Qualification or relegation</th>\n",
              "    </tr>\n",
              "  </thead>\n",
              "  <tbody>\n",
              "    <tr>\n",
              "      <th>0</th>\n",
              "      <td>2000-01</td>\n",
              "      <td>1</td>\n",
              "      <td>Manchester United</td>\n",
              "      <td>38</td>\n",
              "      <td>24</td>\n",
              "      <td>8</td>\n",
              "      <td>6</td>\n",
              "      <td>79</td>\n",
              "      <td>31</td>\n",
              "      <td>48</td>\n",
              "      <td>80</td>\n",
              "      <td>Qualification for the Champions League first g...</td>\n",
              "    </tr>\n",
              "    <tr>\n",
              "      <th>1</th>\n",
              "      <td>2000-01</td>\n",
              "      <td>2</td>\n",
              "      <td>Arsenal</td>\n",
              "      <td>38</td>\n",
              "      <td>20</td>\n",
              "      <td>10</td>\n",
              "      <td>8</td>\n",
              "      <td>63</td>\n",
              "      <td>38</td>\n",
              "      <td>25</td>\n",
              "      <td>70</td>\n",
              "      <td>Qualification for the Champions League first g...</td>\n",
              "    </tr>\n",
              "    <tr>\n",
              "      <th>2</th>\n",
              "      <td>2000-01</td>\n",
              "      <td>3</td>\n",
              "      <td>Liverpool</td>\n",
              "      <td>38</td>\n",
              "      <td>20</td>\n",
              "      <td>9</td>\n",
              "      <td>9</td>\n",
              "      <td>71</td>\n",
              "      <td>39</td>\n",
              "      <td>32</td>\n",
              "      <td>69</td>\n",
              "      <td>Qualification for the Champions League third q...</td>\n",
              "    </tr>\n",
              "    <tr>\n",
              "      <th>3</th>\n",
              "      <td>2000-01</td>\n",
              "      <td>4</td>\n",
              "      <td>Leeds United</td>\n",
              "      <td>38</td>\n",
              "      <td>20</td>\n",
              "      <td>8</td>\n",
              "      <td>10</td>\n",
              "      <td>64</td>\n",
              "      <td>43</td>\n",
              "      <td>21</td>\n",
              "      <td>68</td>\n",
              "      <td>Qualification for the UEFA Cup first round[a]</td>\n",
              "    </tr>\n",
              "    <tr>\n",
              "      <th>4</th>\n",
              "      <td>2000-01</td>\n",
              "      <td>5</td>\n",
              "      <td>Ipswich Town</td>\n",
              "      <td>38</td>\n",
              "      <td>20</td>\n",
              "      <td>6</td>\n",
              "      <td>12</td>\n",
              "      <td>57</td>\n",
              "      <td>42</td>\n",
              "      <td>15</td>\n",
              "      <td>66</td>\n",
              "      <td>Qualification for the UEFA Cup first round[a]</td>\n",
              "    </tr>\n",
              "  </tbody>\n",
              "</table>\n",
              "</div>\n",
              "      <button class=\"colab-df-convert\" onclick=\"convertToInteractive('df-528ac73d-9ef7-4fcd-a13b-5a8be8edd2da')\"\n",
              "              title=\"Convert this dataframe to an interactive table.\"\n",
              "              style=\"display:none;\">\n",
              "        \n",
              "  <svg xmlns=\"http://www.w3.org/2000/svg\" height=\"24px\"viewBox=\"0 0 24 24\"\n",
              "       width=\"24px\">\n",
              "    <path d=\"M0 0h24v24H0V0z\" fill=\"none\"/>\n",
              "    <path d=\"M18.56 5.44l.94 2.06.94-2.06 2.06-.94-2.06-.94-.94-2.06-.94 2.06-2.06.94zm-11 1L8.5 8.5l.94-2.06 2.06-.94-2.06-.94L8.5 2.5l-.94 2.06-2.06.94zm10 10l.94 2.06.94-2.06 2.06-.94-2.06-.94-.94-2.06-.94 2.06-2.06.94z\"/><path d=\"M17.41 7.96l-1.37-1.37c-.4-.4-.92-.59-1.43-.59-.52 0-1.04.2-1.43.59L10.3 9.45l-7.72 7.72c-.78.78-.78 2.05 0 2.83L4 21.41c.39.39.9.59 1.41.59.51 0 1.02-.2 1.41-.59l7.78-7.78 2.81-2.81c.8-.78.8-2.07 0-2.86zM5.41 20L4 18.59l7.72-7.72 1.47 1.35L5.41 20z\"/>\n",
              "  </svg>\n",
              "      </button>\n",
              "      \n",
              "  <style>\n",
              "    .colab-df-container {\n",
              "      display:flex;\n",
              "      flex-wrap:wrap;\n",
              "      gap: 12px;\n",
              "    }\n",
              "\n",
              "    .colab-df-convert {\n",
              "      background-color: #E8F0FE;\n",
              "      border: none;\n",
              "      border-radius: 50%;\n",
              "      cursor: pointer;\n",
              "      display: none;\n",
              "      fill: #1967D2;\n",
              "      height: 32px;\n",
              "      padding: 0 0 0 0;\n",
              "      width: 32px;\n",
              "    }\n",
              "\n",
              "    .colab-df-convert:hover {\n",
              "      background-color: #E2EBFA;\n",
              "      box-shadow: 0px 1px 2px rgba(60, 64, 67, 0.3), 0px 1px 3px 1px rgba(60, 64, 67, 0.15);\n",
              "      fill: #174EA6;\n",
              "    }\n",
              "\n",
              "    [theme=dark] .colab-df-convert {\n",
              "      background-color: #3B4455;\n",
              "      fill: #D2E3FC;\n",
              "    }\n",
              "\n",
              "    [theme=dark] .colab-df-convert:hover {\n",
              "      background-color: #434B5C;\n",
              "      box-shadow: 0px 1px 3px 1px rgba(0, 0, 0, 0.15);\n",
              "      filter: drop-shadow(0px 1px 2px rgba(0, 0, 0, 0.3));\n",
              "      fill: #FFFFFF;\n",
              "    }\n",
              "  </style>\n",
              "\n",
              "      <script>\n",
              "        const buttonEl =\n",
              "          document.querySelector('#df-528ac73d-9ef7-4fcd-a13b-5a8be8edd2da button.colab-df-convert');\n",
              "        buttonEl.style.display =\n",
              "          google.colab.kernel.accessAllowed ? 'block' : 'none';\n",
              "\n",
              "        async function convertToInteractive(key) {\n",
              "          const element = document.querySelector('#df-528ac73d-9ef7-4fcd-a13b-5a8be8edd2da');\n",
              "          const dataTable =\n",
              "            await google.colab.kernel.invokeFunction('convertToInteractive',\n",
              "                                                     [key], {});\n",
              "          if (!dataTable) return;\n",
              "\n",
              "          const docLinkHtml = 'Like what you see? Visit the ' +\n",
              "            '<a target=\"_blank\" href=https://colab.research.google.com/notebooks/data_table.ipynb>data table notebook</a>'\n",
              "            + ' to learn more about interactive tables.';\n",
              "          element.innerHTML = '';\n",
              "          dataTable['output_type'] = 'display_data';\n",
              "          await google.colab.output.renderOutput(dataTable, element);\n",
              "          const docLink = document.createElement('div');\n",
              "          docLink.innerHTML = docLinkHtml;\n",
              "          element.appendChild(docLink);\n",
              "        }\n",
              "      </script>\n",
              "    </div>\n",
              "  </div>\n",
              "  "
            ]
          },
          "metadata": {},
          "execution_count": 12
        }
      ]
    },
    {
      "cell_type": "code",
      "source": [
        "condition = df['Season']== '2021-22'\n",
        "print(df[condition])"
      ],
      "metadata": {
        "colab": {
          "base_uri": "https://localhost:8080/"
        },
        "id": "OlpGPa0xnrnA",
        "outputId": "3cdc1aa2-68ab-4b84-93cc-3d74a126062f"
      },
      "execution_count": 2,
      "outputs": [
        {
          "output_type": "stream",
          "name": "stdout",
          "text": [
            "      Season  Pos                     Team  Pld   W   D   L  GF  GA  GD  Pts  \\\n",
            "420  2021-22    1          Manchester City   38  29   6   3  99  26  73   93   \n",
            "421  2021-22    2                Liverpool   38  28   8   2  94  26  68   92   \n",
            "422  2021-22    3                  Chelsea   38  21  11   6  76  33  43   74   \n",
            "423  2021-22    4        Tottenham Hotspur   38  22   5  11  69  40  29   71   \n",
            "424  2021-22    5                  Arsenal   38  22   3  13  61  48  13   69   \n",
            "425  2021-22    6        Manchester United   38  16  10  12  57  57   0   58   \n",
            "426  2021-22    7          West Ham United   38  16   8  14  60  51   9   56   \n",
            "427  2021-22    8           Leicester City   38  14  10  14  62  59   3   52   \n",
            "428  2021-22    9   Brighton & Hove Albion   38  12  15  11  42  44  -2   51   \n",
            "429  2021-22   10  Wolverhampton Wanderers   38  15   6  17  38  43  -5   51   \n",
            "430  2021-22   11         Newcastle United   38  13  10  15  44  62 -18   49   \n",
            "431  2021-22   12           Crystal Palace   38  11  15  12  50  46   4   48   \n",
            "432  2021-22   13                Brentford   38  13   7  18  48  56  -8   46   \n",
            "433  2021-22   14              Aston Villa   38  13   6  19  52  54  -2   45   \n",
            "434  2021-22   15              Southampton   38   9  13  16  43  67 -24   40   \n",
            "435  2021-22   16                  Everton   38  11   6  21  43  66 -23   39   \n",
            "436  2021-22   17             Leeds United   38   9  11  18  42  79 -37   38   \n",
            "437  2021-22   18                  Burnley   38   7  14  17  34  53 -19   35   \n",
            "438  2021-22   19                  Watford   38   6   5  27  34  77 -43   23   \n",
            "439  2021-22   20             Norwich City   38   5   7  26  23  84 -61   22   \n",
            "\n",
            "                           Qualification or relegation  \n",
            "420  Qualification for the Champions League group s...  \n",
            "421  Qualification for the Champions League group s...  \n",
            "422  Qualification for the Champions League group s...  \n",
            "423  Qualification for the Champions League group s...  \n",
            "424  Qualification for the Europa League group stag...  \n",
            "425  Qualification for the Europa League group stag...  \n",
            "426  Qualification for the Europa Conference League...  \n",
            "427                                     Not Applicable  \n",
            "428                                     Not Applicable  \n",
            "429                                     Not Applicable  \n",
            "430                                     Not Applicable  \n",
            "431                                     Not Applicable  \n",
            "432                                     Not Applicable  \n",
            "433                                     Not Applicable  \n",
            "434                                     Not Applicable  \n",
            "435                                     Not Applicable  \n",
            "436                                     Not Applicable  \n",
            "437                 Relegation to the EFL Championship  \n",
            "438                 Relegation to the EFL Championship  \n",
            "439                 Relegation to the EFL Championship  \n"
          ]
        }
      ]
    },
    {
      "cell_type": "code",
      "source": [
        "#Choose data for 2010-2021\n",
        "df_1 = df.drop(df.index[0:200])\n",
        "df_1 = df_1.drop(df.index[420:439])\n",
        "df_1.head()"
      ],
      "metadata": {
        "colab": {
          "base_uri": "https://localhost:8080/",
          "height": 206
        },
        "id": "3fvrhovKcG4L",
        "outputId": "8d369e22-f539-494d-8c62-390d9ce6298e"
      },
      "execution_count": 3,
      "outputs": [
        {
          "output_type": "execute_result",
          "data": {
            "text/plain": [
              "      Season  Pos               Team  Pld   W   D  L  GF  GA  GD  Pts  \\\n",
              "200  2010-11    1  Manchester United   38  23  11  4  78  37  41   80   \n",
              "201  2010-11    2            Chelsea   38  21   8  9  69  33  36   71   \n",
              "202  2010-11    3    Manchester City   38  21   8  9  60  33  27   71   \n",
              "203  2010-11    4            Arsenal   38  19  11  8  72  43  29   68   \n",
              "204  2010-11    5  Tottenham Hotspur   38  16  14  8  55  46   9   62   \n",
              "\n",
              "                           Qualification or relegation  \n",
              "200  Qualification for the Champions League group s...  \n",
              "201  Qualification for the Champions League group s...  \n",
              "202  Qualification for the Champions League group s...  \n",
              "203  Qualification for the Champions League play-of...  \n",
              "204  Qualification for the Europa League play-off r...  "
            ],
            "text/html": [
              "\n",
              "  <div id=\"df-ce7dd6b2-6c73-49ea-8476-838d34a7dbff\">\n",
              "    <div class=\"colab-df-container\">\n",
              "      <div>\n",
              "<style scoped>\n",
              "    .dataframe tbody tr th:only-of-type {\n",
              "        vertical-align: middle;\n",
              "    }\n",
              "\n",
              "    .dataframe tbody tr th {\n",
              "        vertical-align: top;\n",
              "    }\n",
              "\n",
              "    .dataframe thead th {\n",
              "        text-align: right;\n",
              "    }\n",
              "</style>\n",
              "<table border=\"1\" class=\"dataframe\">\n",
              "  <thead>\n",
              "    <tr style=\"text-align: right;\">\n",
              "      <th></th>\n",
              "      <th>Season</th>\n",
              "      <th>Pos</th>\n",
              "      <th>Team</th>\n",
              "      <th>Pld</th>\n",
              "      <th>W</th>\n",
              "      <th>D</th>\n",
              "      <th>L</th>\n",
              "      <th>GF</th>\n",
              "      <th>GA</th>\n",
              "      <th>GD</th>\n",
              "      <th>Pts</th>\n",
              "      <th>Qualification or relegation</th>\n",
              "    </tr>\n",
              "  </thead>\n",
              "  <tbody>\n",
              "    <tr>\n",
              "      <th>200</th>\n",
              "      <td>2010-11</td>\n",
              "      <td>1</td>\n",
              "      <td>Manchester United</td>\n",
              "      <td>38</td>\n",
              "      <td>23</td>\n",
              "      <td>11</td>\n",
              "      <td>4</td>\n",
              "      <td>78</td>\n",
              "      <td>37</td>\n",
              "      <td>41</td>\n",
              "      <td>80</td>\n",
              "      <td>Qualification for the Champions League group s...</td>\n",
              "    </tr>\n",
              "    <tr>\n",
              "      <th>201</th>\n",
              "      <td>2010-11</td>\n",
              "      <td>2</td>\n",
              "      <td>Chelsea</td>\n",
              "      <td>38</td>\n",
              "      <td>21</td>\n",
              "      <td>8</td>\n",
              "      <td>9</td>\n",
              "      <td>69</td>\n",
              "      <td>33</td>\n",
              "      <td>36</td>\n",
              "      <td>71</td>\n",
              "      <td>Qualification for the Champions League group s...</td>\n",
              "    </tr>\n",
              "    <tr>\n",
              "      <th>202</th>\n",
              "      <td>2010-11</td>\n",
              "      <td>3</td>\n",
              "      <td>Manchester City</td>\n",
              "      <td>38</td>\n",
              "      <td>21</td>\n",
              "      <td>8</td>\n",
              "      <td>9</td>\n",
              "      <td>60</td>\n",
              "      <td>33</td>\n",
              "      <td>27</td>\n",
              "      <td>71</td>\n",
              "      <td>Qualification for the Champions League group s...</td>\n",
              "    </tr>\n",
              "    <tr>\n",
              "      <th>203</th>\n",
              "      <td>2010-11</td>\n",
              "      <td>4</td>\n",
              "      <td>Arsenal</td>\n",
              "      <td>38</td>\n",
              "      <td>19</td>\n",
              "      <td>11</td>\n",
              "      <td>8</td>\n",
              "      <td>72</td>\n",
              "      <td>43</td>\n",
              "      <td>29</td>\n",
              "      <td>68</td>\n",
              "      <td>Qualification for the Champions League play-of...</td>\n",
              "    </tr>\n",
              "    <tr>\n",
              "      <th>204</th>\n",
              "      <td>2010-11</td>\n",
              "      <td>5</td>\n",
              "      <td>Tottenham Hotspur</td>\n",
              "      <td>38</td>\n",
              "      <td>16</td>\n",
              "      <td>14</td>\n",
              "      <td>8</td>\n",
              "      <td>55</td>\n",
              "      <td>46</td>\n",
              "      <td>9</td>\n",
              "      <td>62</td>\n",
              "      <td>Qualification for the Europa League play-off r...</td>\n",
              "    </tr>\n",
              "  </tbody>\n",
              "</table>\n",
              "</div>\n",
              "      <button class=\"colab-df-convert\" onclick=\"convertToInteractive('df-ce7dd6b2-6c73-49ea-8476-838d34a7dbff')\"\n",
              "              title=\"Convert this dataframe to an interactive table.\"\n",
              "              style=\"display:none;\">\n",
              "        \n",
              "  <svg xmlns=\"http://www.w3.org/2000/svg\" height=\"24px\"viewBox=\"0 0 24 24\"\n",
              "       width=\"24px\">\n",
              "    <path d=\"M0 0h24v24H0V0z\" fill=\"none\"/>\n",
              "    <path d=\"M18.56 5.44l.94 2.06.94-2.06 2.06-.94-2.06-.94-.94-2.06-.94 2.06-2.06.94zm-11 1L8.5 8.5l.94-2.06 2.06-.94-2.06-.94L8.5 2.5l-.94 2.06-2.06.94zm10 10l.94 2.06.94-2.06 2.06-.94-2.06-.94-.94-2.06-.94 2.06-2.06.94z\"/><path d=\"M17.41 7.96l-1.37-1.37c-.4-.4-.92-.59-1.43-.59-.52 0-1.04.2-1.43.59L10.3 9.45l-7.72 7.72c-.78.78-.78 2.05 0 2.83L4 21.41c.39.39.9.59 1.41.59.51 0 1.02-.2 1.41-.59l7.78-7.78 2.81-2.81c.8-.78.8-2.07 0-2.86zM5.41 20L4 18.59l7.72-7.72 1.47 1.35L5.41 20z\"/>\n",
              "  </svg>\n",
              "      </button>\n",
              "      \n",
              "  <style>\n",
              "    .colab-df-container {\n",
              "      display:flex;\n",
              "      flex-wrap:wrap;\n",
              "      gap: 12px;\n",
              "    }\n",
              "\n",
              "    .colab-df-convert {\n",
              "      background-color: #E8F0FE;\n",
              "      border: none;\n",
              "      border-radius: 50%;\n",
              "      cursor: pointer;\n",
              "      display: none;\n",
              "      fill: #1967D2;\n",
              "      height: 32px;\n",
              "      padding: 0 0 0 0;\n",
              "      width: 32px;\n",
              "    }\n",
              "\n",
              "    .colab-df-convert:hover {\n",
              "      background-color: #E2EBFA;\n",
              "      box-shadow: 0px 1px 2px rgba(60, 64, 67, 0.3), 0px 1px 3px 1px rgba(60, 64, 67, 0.15);\n",
              "      fill: #174EA6;\n",
              "    }\n",
              "\n",
              "    [theme=dark] .colab-df-convert {\n",
              "      background-color: #3B4455;\n",
              "      fill: #D2E3FC;\n",
              "    }\n",
              "\n",
              "    [theme=dark] .colab-df-convert:hover {\n",
              "      background-color: #434B5C;\n",
              "      box-shadow: 0px 1px 3px 1px rgba(0, 0, 0, 0.15);\n",
              "      filter: drop-shadow(0px 1px 2px rgba(0, 0, 0, 0.3));\n",
              "      fill: #FFFFFF;\n",
              "    }\n",
              "  </style>\n",
              "\n",
              "      <script>\n",
              "        const buttonEl =\n",
              "          document.querySelector('#df-ce7dd6b2-6c73-49ea-8476-838d34a7dbff button.colab-df-convert');\n",
              "        buttonEl.style.display =\n",
              "          google.colab.kernel.accessAllowed ? 'block' : 'none';\n",
              "\n",
              "        async function convertToInteractive(key) {\n",
              "          const element = document.querySelector('#df-ce7dd6b2-6c73-49ea-8476-838d34a7dbff');\n",
              "          const dataTable =\n",
              "            await google.colab.kernel.invokeFunction('convertToInteractive',\n",
              "                                                     [key], {});\n",
              "          if (!dataTable) return;\n",
              "\n",
              "          const docLinkHtml = 'Like what you see? Visit the ' +\n",
              "            '<a target=\"_blank\" href=https://colab.research.google.com/notebooks/data_table.ipynb>data table notebook</a>'\n",
              "            + ' to learn more about interactive tables.';\n",
              "          element.innerHTML = '';\n",
              "          dataTable['output_type'] = 'display_data';\n",
              "          await google.colab.output.renderOutput(dataTable, element);\n",
              "          const docLink = document.createElement('div');\n",
              "          docLink.innerHTML = docLinkHtml;\n",
              "          element.appendChild(docLink);\n",
              "        }\n",
              "      </script>\n",
              "    </div>\n",
              "  </div>\n",
              "  "
            ]
          },
          "metadata": {},
          "execution_count": 3
        }
      ]
    },
    {
      "cell_type": "code",
      "source": [
        "#Choose data for 2000-2010\n",
        "condition = df['Season']== '2021-22'\n",
        "print(df[condition])\n",
        "\n",
        "df_2 = df.drop(df.index[200:439])\n",
        "df_2.head()\n"
      ],
      "metadata": {
        "colab": {
          "base_uri": "https://localhost:8080/",
          "height": 990
        },
        "id": "7kuxjgfC_2Ua",
        "outputId": "5e0cdc8a-436e-4668-943f-fa946f34179c"
      },
      "execution_count": 4,
      "outputs": [
        {
          "output_type": "stream",
          "name": "stdout",
          "text": [
            "      Season  Pos                     Team  Pld   W   D   L  GF  GA  GD  Pts  \\\n",
            "420  2021-22    1          Manchester City   38  29   6   3  99  26  73   93   \n",
            "421  2021-22    2                Liverpool   38  28   8   2  94  26  68   92   \n",
            "422  2021-22    3                  Chelsea   38  21  11   6  76  33  43   74   \n",
            "423  2021-22    4        Tottenham Hotspur   38  22   5  11  69  40  29   71   \n",
            "424  2021-22    5                  Arsenal   38  22   3  13  61  48  13   69   \n",
            "425  2021-22    6        Manchester United   38  16  10  12  57  57   0   58   \n",
            "426  2021-22    7          West Ham United   38  16   8  14  60  51   9   56   \n",
            "427  2021-22    8           Leicester City   38  14  10  14  62  59   3   52   \n",
            "428  2021-22    9   Brighton & Hove Albion   38  12  15  11  42  44  -2   51   \n",
            "429  2021-22   10  Wolverhampton Wanderers   38  15   6  17  38  43  -5   51   \n",
            "430  2021-22   11         Newcastle United   38  13  10  15  44  62 -18   49   \n",
            "431  2021-22   12           Crystal Palace   38  11  15  12  50  46   4   48   \n",
            "432  2021-22   13                Brentford   38  13   7  18  48  56  -8   46   \n",
            "433  2021-22   14              Aston Villa   38  13   6  19  52  54  -2   45   \n",
            "434  2021-22   15              Southampton   38   9  13  16  43  67 -24   40   \n",
            "435  2021-22   16                  Everton   38  11   6  21  43  66 -23   39   \n",
            "436  2021-22   17             Leeds United   38   9  11  18  42  79 -37   38   \n",
            "437  2021-22   18                  Burnley   38   7  14  17  34  53 -19   35   \n",
            "438  2021-22   19                  Watford   38   6   5  27  34  77 -43   23   \n",
            "439  2021-22   20             Norwich City   38   5   7  26  23  84 -61   22   \n",
            "\n",
            "                           Qualification or relegation  \n",
            "420  Qualification for the Champions League group s...  \n",
            "421  Qualification for the Champions League group s...  \n",
            "422  Qualification for the Champions League group s...  \n",
            "423  Qualification for the Champions League group s...  \n",
            "424  Qualification for the Europa League group stag...  \n",
            "425  Qualification for the Europa League group stag...  \n",
            "426  Qualification for the Europa Conference League...  \n",
            "427                                     Not Applicable  \n",
            "428                                     Not Applicable  \n",
            "429                                     Not Applicable  \n",
            "430                                     Not Applicable  \n",
            "431                                     Not Applicable  \n",
            "432                                     Not Applicable  \n",
            "433                                     Not Applicable  \n",
            "434                                     Not Applicable  \n",
            "435                                     Not Applicable  \n",
            "436                                     Not Applicable  \n",
            "437                 Relegation to the EFL Championship  \n",
            "438                 Relegation to the EFL Championship  \n",
            "439                 Relegation to the EFL Championship  \n"
          ]
        },
        {
          "output_type": "execute_result",
          "data": {
            "text/plain": [
              "    Season  Pos               Team  Pld   W   D   L  GF  GA  GD  Pts  \\\n",
              "0  2000-01    1  Manchester United   38  24   8   6  79  31  48   80   \n",
              "1  2000-01    2            Arsenal   38  20  10   8  63  38  25   70   \n",
              "2  2000-01    3          Liverpool   38  20   9   9  71  39  32   69   \n",
              "3  2000-01    4       Leeds United   38  20   8  10  64  43  21   68   \n",
              "4  2000-01    5       Ipswich Town   38  20   6  12  57  42  15   66   \n",
              "\n",
              "                         Qualification or relegation  \n",
              "0  Qualification for the Champions League first g...  \n",
              "1  Qualification for the Champions League first g...  \n",
              "2  Qualification for the Champions League third q...  \n",
              "3      Qualification for the UEFA Cup first round[a]  \n",
              "4      Qualification for the UEFA Cup first round[a]  "
            ],
            "text/html": [
              "\n",
              "  <div id=\"df-c7485c2c-df8a-45ad-9465-041dd5207b2e\">\n",
              "    <div class=\"colab-df-container\">\n",
              "      <div>\n",
              "<style scoped>\n",
              "    .dataframe tbody tr th:only-of-type {\n",
              "        vertical-align: middle;\n",
              "    }\n",
              "\n",
              "    .dataframe tbody tr th {\n",
              "        vertical-align: top;\n",
              "    }\n",
              "\n",
              "    .dataframe thead th {\n",
              "        text-align: right;\n",
              "    }\n",
              "</style>\n",
              "<table border=\"1\" class=\"dataframe\">\n",
              "  <thead>\n",
              "    <tr style=\"text-align: right;\">\n",
              "      <th></th>\n",
              "      <th>Season</th>\n",
              "      <th>Pos</th>\n",
              "      <th>Team</th>\n",
              "      <th>Pld</th>\n",
              "      <th>W</th>\n",
              "      <th>D</th>\n",
              "      <th>L</th>\n",
              "      <th>GF</th>\n",
              "      <th>GA</th>\n",
              "      <th>GD</th>\n",
              "      <th>Pts</th>\n",
              "      <th>Qualification or relegation</th>\n",
              "    </tr>\n",
              "  </thead>\n",
              "  <tbody>\n",
              "    <tr>\n",
              "      <th>0</th>\n",
              "      <td>2000-01</td>\n",
              "      <td>1</td>\n",
              "      <td>Manchester United</td>\n",
              "      <td>38</td>\n",
              "      <td>24</td>\n",
              "      <td>8</td>\n",
              "      <td>6</td>\n",
              "      <td>79</td>\n",
              "      <td>31</td>\n",
              "      <td>48</td>\n",
              "      <td>80</td>\n",
              "      <td>Qualification for the Champions League first g...</td>\n",
              "    </tr>\n",
              "    <tr>\n",
              "      <th>1</th>\n",
              "      <td>2000-01</td>\n",
              "      <td>2</td>\n",
              "      <td>Arsenal</td>\n",
              "      <td>38</td>\n",
              "      <td>20</td>\n",
              "      <td>10</td>\n",
              "      <td>8</td>\n",
              "      <td>63</td>\n",
              "      <td>38</td>\n",
              "      <td>25</td>\n",
              "      <td>70</td>\n",
              "      <td>Qualification for the Champions League first g...</td>\n",
              "    </tr>\n",
              "    <tr>\n",
              "      <th>2</th>\n",
              "      <td>2000-01</td>\n",
              "      <td>3</td>\n",
              "      <td>Liverpool</td>\n",
              "      <td>38</td>\n",
              "      <td>20</td>\n",
              "      <td>9</td>\n",
              "      <td>9</td>\n",
              "      <td>71</td>\n",
              "      <td>39</td>\n",
              "      <td>32</td>\n",
              "      <td>69</td>\n",
              "      <td>Qualification for the Champions League third q...</td>\n",
              "    </tr>\n",
              "    <tr>\n",
              "      <th>3</th>\n",
              "      <td>2000-01</td>\n",
              "      <td>4</td>\n",
              "      <td>Leeds United</td>\n",
              "      <td>38</td>\n",
              "      <td>20</td>\n",
              "      <td>8</td>\n",
              "      <td>10</td>\n",
              "      <td>64</td>\n",
              "      <td>43</td>\n",
              "      <td>21</td>\n",
              "      <td>68</td>\n",
              "      <td>Qualification for the UEFA Cup first round[a]</td>\n",
              "    </tr>\n",
              "    <tr>\n",
              "      <th>4</th>\n",
              "      <td>2000-01</td>\n",
              "      <td>5</td>\n",
              "      <td>Ipswich Town</td>\n",
              "      <td>38</td>\n",
              "      <td>20</td>\n",
              "      <td>6</td>\n",
              "      <td>12</td>\n",
              "      <td>57</td>\n",
              "      <td>42</td>\n",
              "      <td>15</td>\n",
              "      <td>66</td>\n",
              "      <td>Qualification for the UEFA Cup first round[a]</td>\n",
              "    </tr>\n",
              "  </tbody>\n",
              "</table>\n",
              "</div>\n",
              "      <button class=\"colab-df-convert\" onclick=\"convertToInteractive('df-c7485c2c-df8a-45ad-9465-041dd5207b2e')\"\n",
              "              title=\"Convert this dataframe to an interactive table.\"\n",
              "              style=\"display:none;\">\n",
              "        \n",
              "  <svg xmlns=\"http://www.w3.org/2000/svg\" height=\"24px\"viewBox=\"0 0 24 24\"\n",
              "       width=\"24px\">\n",
              "    <path d=\"M0 0h24v24H0V0z\" fill=\"none\"/>\n",
              "    <path d=\"M18.56 5.44l.94 2.06.94-2.06 2.06-.94-2.06-.94-.94-2.06-.94 2.06-2.06.94zm-11 1L8.5 8.5l.94-2.06 2.06-.94-2.06-.94L8.5 2.5l-.94 2.06-2.06.94zm10 10l.94 2.06.94-2.06 2.06-.94-2.06-.94-.94-2.06-.94 2.06-2.06.94z\"/><path d=\"M17.41 7.96l-1.37-1.37c-.4-.4-.92-.59-1.43-.59-.52 0-1.04.2-1.43.59L10.3 9.45l-7.72 7.72c-.78.78-.78 2.05 0 2.83L4 21.41c.39.39.9.59 1.41.59.51 0 1.02-.2 1.41-.59l7.78-7.78 2.81-2.81c.8-.78.8-2.07 0-2.86zM5.41 20L4 18.59l7.72-7.72 1.47 1.35L5.41 20z\"/>\n",
              "  </svg>\n",
              "      </button>\n",
              "      \n",
              "  <style>\n",
              "    .colab-df-container {\n",
              "      display:flex;\n",
              "      flex-wrap:wrap;\n",
              "      gap: 12px;\n",
              "    }\n",
              "\n",
              "    .colab-df-convert {\n",
              "      background-color: #E8F0FE;\n",
              "      border: none;\n",
              "      border-radius: 50%;\n",
              "      cursor: pointer;\n",
              "      display: none;\n",
              "      fill: #1967D2;\n",
              "      height: 32px;\n",
              "      padding: 0 0 0 0;\n",
              "      width: 32px;\n",
              "    }\n",
              "\n",
              "    .colab-df-convert:hover {\n",
              "      background-color: #E2EBFA;\n",
              "      box-shadow: 0px 1px 2px rgba(60, 64, 67, 0.3), 0px 1px 3px 1px rgba(60, 64, 67, 0.15);\n",
              "      fill: #174EA6;\n",
              "    }\n",
              "\n",
              "    [theme=dark] .colab-df-convert {\n",
              "      background-color: #3B4455;\n",
              "      fill: #D2E3FC;\n",
              "    }\n",
              "\n",
              "    [theme=dark] .colab-df-convert:hover {\n",
              "      background-color: #434B5C;\n",
              "      box-shadow: 0px 1px 3px 1px rgba(0, 0, 0, 0.15);\n",
              "      filter: drop-shadow(0px 1px 2px rgba(0, 0, 0, 0.3));\n",
              "      fill: #FFFFFF;\n",
              "    }\n",
              "  </style>\n",
              "\n",
              "      <script>\n",
              "        const buttonEl =\n",
              "          document.querySelector('#df-c7485c2c-df8a-45ad-9465-041dd5207b2e button.colab-df-convert');\n",
              "        buttonEl.style.display =\n",
              "          google.colab.kernel.accessAllowed ? 'block' : 'none';\n",
              "\n",
              "        async function convertToInteractive(key) {\n",
              "          const element = document.querySelector('#df-c7485c2c-df8a-45ad-9465-041dd5207b2e');\n",
              "          const dataTable =\n",
              "            await google.colab.kernel.invokeFunction('convertToInteractive',\n",
              "                                                     [key], {});\n",
              "          if (!dataTable) return;\n",
              "\n",
              "          const docLinkHtml = 'Like what you see? Visit the ' +\n",
              "            '<a target=\"_blank\" href=https://colab.research.google.com/notebooks/data_table.ipynb>data table notebook</a>'\n",
              "            + ' to learn more about interactive tables.';\n",
              "          element.innerHTML = '';\n",
              "          dataTable['output_type'] = 'display_data';\n",
              "          await google.colab.output.renderOutput(dataTable, element);\n",
              "          const docLink = document.createElement('div');\n",
              "          docLink.innerHTML = docLinkHtml;\n",
              "          element.appendChild(docLink);\n",
              "        }\n",
              "      </script>\n",
              "    </div>\n",
              "  </div>\n",
              "  "
            ]
          },
          "metadata": {},
          "execution_count": 4
        }
      ]
    },
    {
      "cell_type": "markdown",
      "source": [
        "Which club is crowned the winner the most during 2000-10"
      ],
      "metadata": {
        "id": "dGeqw17uAj20"
      }
    },
    {
      "cell_type": "code",
      "source": [
        "def count_value(series, value):\n",
        "    return (series == value).sum()\n",
        "\n",
        "counts_2 = df_2.groupby('Team')['Pos'].apply(count_value, value=1)\n",
        "counts_2 = counts_2.sort_values(ascending = False)\n",
        "print(counts_2)"
      ],
      "metadata": {
        "colab": {
          "base_uri": "https://localhost:8080/"
        },
        "id": "YbDhLc9LApx8",
        "outputId": "0d6af7dc-ddd0-4942-84dc-b8221622f855"
      },
      "execution_count": 5,
      "outputs": [
        {
          "output_type": "stream",
          "name": "stdout",
          "text": [
            "Team\n",
            "Manchester United          5\n",
            "Chelsea                    3\n",
            "Arsenal                    2\n",
            "West Ham United            0\n",
            "West Bromwich Albion       0\n",
            "Watford                    0\n",
            "Tottenham Hotspur          0\n",
            "Sunderland                 0\n",
            "Wigan Athletic             0\n",
            "Manchester City            0\n",
            "Southampton                0\n",
            "Sheffield United           0\n",
            "Reading                    0\n",
            "Portsmouth                 0\n",
            "Norwich City               0\n",
            "Newcastle United           0\n",
            "Middlesbrough              0\n",
            "Stoke City                 0\n",
            "Liverpool                  0\n",
            "Aston Villa                0\n",
            "Coventry City              0\n",
            "Birmingham City            0\n",
            "Blackburn Rovers           0\n",
            "Bolton Wanderers           0\n",
            "Bradford City              0\n",
            "Burnley                    0\n",
            "Charlton Athletic          0\n",
            "Crystal Palace             0\n",
            "Leicester City             0\n",
            "Derby County               0\n",
            "Everton                    0\n",
            "Fulham                     0\n",
            "Hull City                  0\n",
            "Ipswich Town               0\n",
            "Leeds United               0\n",
            "Wolverhampton Wanderers    0\n",
            "Name: Pos, dtype: int64\n"
          ]
        }
      ]
    },
    {
      "cell_type": "code",
      "source": [
        "import matplotlib.pyplot as plt\n",
        "\n",
        "values = [5,3,2]\n",
        "labels = ['Man Utd', 'Chelsea', 'Arsenal']\n",
        "colors = ['#F5DEB3', '#98FB98', '#FF69B4']\n",
        "plt.pie(values, labels=labels, colors=colors, autopct=lambda x: f'{int(x * sum(values) / 100.0)}')\n",
        "plt.title('PL champions 2000-2010')\n",
        "plt.show()"
      ],
      "metadata": {
        "colab": {
          "base_uri": "https://localhost:8080/",
          "height": 428
        },
        "id": "8uZ5_Se0c-Tb",
        "outputId": "de0796d4-a3ef-4785-ceb9-9ee5e1f0002a"
      },
      "execution_count": 6,
      "outputs": [
        {
          "output_type": "display_data",
          "data": {
            "text/plain": [
              "<Figure size 640x480 with 1 Axes>"
            ],
            "image/png": "[encoded data removed]"
          },
          "metadata": {}
        }
      ]
    },
    {
      "cell_type": "markdown",
      "source": [
        "**Which club is crowned the winner the most during 2010-2021**"
      ],
      "metadata": {
        "id": "6OahhHvLnisz"
      }
    },
    {
      "cell_type": "code",
      "source": [
        "def count_value(series, value):\n",
        "    return (series == value).sum()\n",
        "\n",
        "counts = df_1.groupby('Team')['Pos'].apply(count_value, value=1)\n",
        "counts = counts.sort_values(ascending = False)\n",
        "print(counts)"
      ],
      "metadata": {
        "colab": {
          "base_uri": "https://localhost:8080/"
        },
        "id": "7vgXDvP3uJS7",
        "outputId": "5aecb066-d7d4-4a5b-f9a3-e77a769c2dd5"
      },
      "execution_count": 7,
      "outputs": [
        {
          "output_type": "stream",
          "name": "stdout",
          "text": [
            "Team\n",
            "Manchester City            5\n",
            "Manchester United          2\n",
            "Chelsea                    2\n",
            "Liverpool                  1\n",
            "Leicester City             1\n",
            "Sheffield United           0\n",
            "Middlesbrough              0\n",
            "Newcastle United           0\n",
            "Norwich City               0\n",
            "Queens Park Rangers        0\n",
            "Reading                    0\n",
            "West Ham United            0\n",
            "West Bromwich Albion       0\n",
            "Wigan Athletic             0\n",
            "Stoke City                 0\n",
            "Sunderland                 0\n",
            "Swansea City               0\n",
            "Tottenham Hotspur          0\n",
            "Watford                    0\n",
            "Southampton                0\n",
            "Arsenal                    0\n",
            "Aston Villa                0\n",
            "Leeds United               0\n",
            "Hull City                  0\n",
            "Huddersfield Town          0\n",
            "Fulham                     0\n",
            "Everton                    0\n",
            "Crystal Palace             0\n",
            "Cardiff City               0\n",
            "Burnley                    0\n",
            "Brighton & Hove Albion     0\n",
            "Bournemouth                0\n",
            "Bolton Wanderers           0\n",
            "Blackpool                  0\n",
            "Blackburn Rovers           0\n",
            "Birmingham City            0\n",
            "Wolverhampton Wanderers    0\n",
            "Name: Pos, dtype: int64\n"
          ]
        }
      ]
    },
    {
      "cell_type": "code",
      "source": [
        "import matplotlib.pyplot as plt\n",
        "values = [5,2,2,1,1]\n",
        "labels = ['Man City', 'Man Utd', 'Chelsea', 'Liverpool', 'Others']\n",
        "colors = ['#F5DEB3', '#98FB98', '#FF69B4', '#ADD8E6', '#FFE4E1']\n",
        "plt.pie(values, labels=labels, colors=colors, autopct=lambda x: f'{int(x * sum(values) / 100.0)}')\n",
        "plt.title('PL champions 2010-2021')\n",
        "plt.show()"
      ],
      "metadata": {
        "colab": {
          "base_uri": "https://localhost:8080/",
          "height": 428
        },
        "id": "US0XUviwd3XS",
        "outputId": "57b0ca5d-9b58-44e7-9da2-1dfa893927b2"
      },
      "execution_count": 8,
      "outputs": [
        {
          "output_type": "display_data",
          "data": {
            "text/plain": [
              "<Figure size 640x480 with 1 Axes>"
            ],
            "image/png": "[encoded data removed]"
          },
          "metadata": {}
        }
      ]
    },
    {
      "cell_type": "markdown",
      "source": [
        "**Which club has the most goals during 2000-2010**"
      ],
      "metadata": {
        "id": "tdlKO-yxBG2M"
      }
    },
    {
      "cell_type": "code",
      "source": [
        "goals_2 = df_2.groupby('Team')['GF'].sum()\n",
        "goals_2 = goals_2.sort_values(ascending=False)\n",
        "print(goals_2)"
      ],
      "metadata": {
        "id": "YyfAbIY8BMoo",
        "outputId": "13075225-8a30-4823-a33c-4a2a02950f4a",
        "colab": {
          "base_uri": "https://localhost:8080/"
        }
      },
      "execution_count": 9,
      "outputs": [
        {
          "output_type": "stream",
          "name": "stdout",
          "text": [
            "Team\n",
            "Manchester United          751\n",
            "Arsenal                    743\n",
            "Chelsea                    713\n",
            "Liverpool                  625\n",
            "Tottenham Hotspur          529\n",
            "Aston Villa                489\n",
            "Everton                    484\n",
            "Newcastle United           450\n",
            "Manchester City            438\n",
            "Blackburn Rovers           424\n",
            "Bolton Wanderers           397\n",
            "Middlesbrough              387\n",
            "Fulham                     383\n",
            "West Ham United            353\n",
            "Charlton Athletic          301\n",
            "Portsmouth                 292\n",
            "Sunderland                 240\n",
            "Birmingham City            236\n",
            "Southampton                218\n",
            "Leeds United               215\n",
            "Wigan Athletic             187\n",
            "West Bromwich Albion       132\n",
            "Leicester City             117\n",
            "Ipswich Town                98\n",
            "Reading                     93\n",
            "Derby County                90\n",
            "Hull City                   73\n",
            "Stoke City                  72\n",
            "Wolverhampton Wanderers     70\n",
            "Norwich City                65\n",
            "Burnley                     42\n",
            "Crystal Palace              41\n",
            "Coventry City               36\n",
            "Sheffield United            32\n",
            "Bradford City               30\n",
            "Watford                     29\n",
            "Name: GF, dtype: int64\n"
          ]
        }
      ]
    },
    {
      "cell_type": "code",
      "source": [
        "import numpy as np\n",
        "x = np.array(['Chelsea', 'Man City', 'Liverpool   ','Tottenham ', 'Arsenal ','Man United'])\n",
        "y = np.array([713, 438, 625, 529,743,751 ])\n",
        "\n",
        "width = 0.5\n",
        "spacing = 0.5\n",
        "\n",
        "plt.bar(x, y, width=width)\n",
        "plt.title('Big 6 Premier League total goals 2000-2010')\n",
        "plt.xlabel('Clubs')\n",
        "plt.ylabel('Goals')\n",
        "\n",
        "plt.show()"
      ],
      "metadata": {
        "colab": {
          "base_uri": "https://localhost:8080/",
          "height": 472
        },
        "id": "FiY7EogoEADr",
        "outputId": "3483b47a-bd0b-41d9-daa6-5580187781ed"
      },
      "execution_count": 10,
      "outputs": [
        {
          "output_type": "display_data",
          "data": {
            "text/plain": [
              "<Figure size 640x480 with 1 Axes>"
            ],
            "image/png": "[encoded data removed]"
          },
          "metadata": {}
        }
      ]
    },
    {
      "cell_type": "markdown",
      "source": [
        "**Which club has the most goals during 2010-21**"
      ],
      "metadata": {
        "id": "k6PZnSxqxOgM"
      }
    },
    {
      "cell_type": "code",
      "source": [
        "goals = df_1.groupby('Team')['GF'].sum()\n",
        "goals = goals.sort_values(ascending=False)\n",
        "print(goals)"
      ],
      "metadata": {
        "colab": {
          "base_uri": "https://localhost:8080/"
        },
        "id": "JyJIkyR-xmV8",
        "outputId": "81535ed1-ad3e-45ed-d907-7d9e1349a69b"
      },
      "execution_count": 11,
      "outputs": [
        {
          "output_type": "stream",
          "name": "stdout",
          "text": [
            "Team\n",
            "Manchester City            941\n",
            "Liverpool                  797\n",
            "Arsenal                    757\n",
            "Manchester United          754\n",
            "Chelsea                    749\n",
            "Tottenham Hotspur          725\n",
            "Everton                    575\n",
            "West Ham United            495\n",
            "Newcastle United           449\n",
            "Southampton                437\n",
            "Leicester City             404\n",
            "West Bromwich Albion       378\n",
            "Crystal Palace             337\n",
            "Stoke City                 326\n",
            "Aston Villa                325\n",
            "Swansea City               306\n",
            "Sunderland                 280\n",
            "Fulham                     248\n",
            "Bournemouth                241\n",
            "Burnley                    224\n",
            "Wolverhampton Wanderers    220\n",
            "Watford                    212\n",
            "Norwich City               209\n",
            "Brighton & Hove Albion     148\n",
            "Wigan Athletic             129\n",
            "Queens Park Rangers        115\n",
            "Hull City                  108\n",
            "Bolton Wanderers            98\n",
            "Blackburn Rovers            94\n",
            "Cardiff City                66\n",
            "Leeds United                62\n",
            "Sheffield United            59\n",
            "Blackpool                   55\n",
            "Huddersfield Town           50\n",
            "Reading                     43\n",
            "Birmingham City             37\n",
            "Middlesbrough               27\n",
            "Name: GF, dtype: int64\n"
          ]
        }
      ]
    },
    {
      "cell_type": "code",
      "source": [
        "x = np.array(['Chelsea', 'Man City', 'Liverpool   ','Tottenham ', 'Arsenal ','Man United'])\n",
        "y = np.array([825, 1040, 891, 794,818,811])\n",
        "\n",
        "width = 0.5\n",
        "spacing = 0.5\n",
        "\n",
        "plt.bar(x, y, width=width)\n",
        "plt.title('Big 6 Premier League total goals 2010-2021')\n",
        "plt.xlabel('Clubs')\n",
        "plt.ylabel('Goals')\n",
        "\n",
        "plt.show()"
      ],
      "metadata": {
        "colab": {
          "base_uri": "https://localhost:8080/",
          "height": 472
        },
        "id": "4BKF7-PaFU3Y",
        "outputId": "badbe3da-e667-475c-c16e-f4d84ae76285"
      },
      "execution_count": 12,
      "outputs": [
        {
          "output_type": "display_data",
          "data": {
            "text/plain": [
              "<Figure size 640x480 with 1 Axes>"
            ],
            "image/png": "[encoded data removed]"
          },
          "metadata": {}
        }
      ]
    },
    {
      "cell_type": "markdown",
      "source": [
        "***Who has the most win during 2010-2021***"
      ],
      "metadata": {
        "id": "HZcMXcbtQyI6"
      }
    },
    {
      "cell_type": "code",
      "source": [
        "wins = df_1.groupby('Team')['W'].sum().loc[['Manchester United', 'Liverpool', 'Arsenal', 'Chelsea', 'Tottenham Hotspur','Manchester City']]\n",
        "wins = wins.sort_values(ascending=False)\n",
        "print(wins)"
      ],
      "metadata": {
        "colab": {
          "base_uri": "https://localhost:8080/"
        },
        "id": "nJ8aTRfdQkdE",
        "outputId": "c474f708-7109-4d17-990b-4f1287a78d04"
      },
      "execution_count": 14,
      "outputs": [
        {
          "output_type": "stream",
          "name": "stdout",
          "text": [
            "Team\n",
            "Manchester City      282\n",
            "Manchester United    238\n",
            "Chelsea              235\n",
            "Liverpool            232\n",
            "Arsenal              222\n",
            "Tottenham Hotspur    222\n",
            "Name: W, dtype: int64\n"
          ]
        }
      ]
    },
    {
      "cell_type": "code",
      "source": [
        "import matplotlib.pyplot as plt\n",
        "values = [282,232,235,222,222,238]\n",
        "labels = ['Man City', 'Liverpool', 'Chelsea', 'Arsenal', 'Tottenham', 'Man United']\n",
        "colors = ['#F5DEB3', '#98FB98', '#FF69B4', '#ADD8E6', '#FFE4E1', '#FF5733']\n",
        "plt.pie(values, labels=labels, colors=colors, autopct='%1.1f%%')\n",
        "plt.title('PL win 2010-2021')\n",
        "plt.show()"
      ],
      "metadata": {
        "colab": {
          "base_uri": "https://localhost:8080/",
          "height": 264
        },
        "id": "farOXRtJmGX3",
        "outputId": "b18c6104-9c3d-4ab2-c7f0-aaf220ff30ae"
      },
      "execution_count": 30,
      "outputs": [
        {
          "output_type": "display_data",
          "data": {
            "text/plain": [
              "<Figure size 432x288 with 1 Axes>"
            ],
            "image/png": "[encoded data removed]"
          },
          "metadata": {}
        }
      ]
    },
    {
      "cell_type": "code",
      "source": [
        "wins = df_2.groupby('Team')['W'].sum().loc[['Manchester United', 'Liverpool', 'Arsenal', 'Chelsea', 'Tottenham Hotspur','Newcastle United']]\n",
        "wins = wins.sort_values(ascending=False)\n",
        "print(wins)"
      ],
      "metadata": {
        "colab": {
          "base_uri": "https://localhost:8080/"
        },
        "id": "7a1Uhv6-jwIx",
        "outputId": "148fd984-6dfc-40ff-da75-8735fa63e4b2"
      },
      "execution_count": 26,
      "outputs": [
        {
          "output_type": "stream",
          "name": "stdout",
          "text": [
            "Team\n",
            "Manchester United    253\n",
            "Chelsea              236\n",
            "Arsenal              226\n",
            "Liverpool            204\n",
            "Tottenham Hotspur    149\n",
            "Newcastle United     125\n",
            "Name: W, dtype: int64\n"
          ]
        }
      ]
    }
  ]
}